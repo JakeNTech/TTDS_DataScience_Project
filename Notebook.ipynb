{
 "cells": [
  {
   "cell_type": "markdown",
   "metadata": {},
   "source": [
    "# Data Science Project\n",
    "This is the notebook that is assosiated with TTDS report, and what wil be used to create all the fancy python graphs\\\n",
    "We first need to import the modules/libaries that we are going to use in this project"
   ]
  },
  {
   "cell_type": "code",
   "execution_count": 47,
   "metadata": {},
   "outputs": [],
   "source": [
    "import pandas as pd\n",
    "import numpy as np\n",
    "import matplotlib.pyplot as plt\n",
    "import matplotlib.ticker as mticker"
   ]
  },
  {
   "cell_type": "markdown",
   "metadata": {},
   "source": [
    "Now this is done we can get on with importing both sets of data:"
   ]
  },
  {
   "cell_type": "code",
   "execution_count": 23,
   "metadata": {},
   "outputs": [
    {
     "data": {
      "text/html": [
       "<div>\n",
       "<style scoped>\n",
       "    .dataframe tbody tr th:only-of-type {\n",
       "        vertical-align: middle;\n",
       "    }\n",
       "\n",
       "    .dataframe tbody tr th {\n",
       "        vertical-align: top;\n",
       "    }\n",
       "\n",
       "    .dataframe thead th {\n",
       "        text-align: right;\n",
       "    }\n",
       "</style>\n",
       "<table border=\"1\" class=\"dataframe\">\n",
       "  <thead>\n",
       "    <tr style=\"text-align: right;\">\n",
       "      <th></th>\n",
       "      <th>sIP</th>\n",
       "      <th>dIP</th>\n",
       "      <th>sPort</th>\n",
       "      <th>dPort</th>\n",
       "      <th>protocol</th>\n",
       "      <th>packets</th>\n",
       "      <th>bytes</th>\n",
       "      <th>flags</th>\n",
       "      <th>sTime</th>\n",
       "      <th>duration</th>\n",
       "      <th>eTime</th>\n",
       "      <th>sensor</th>\n",
       "    </tr>\n",
       "  </thead>\n",
       "  <tbody>\n",
       "    <tr>\n",
       "      <th>0</th>\n",
       "      <td>192.168.0.9</td>\n",
       "      <td>134.209.19.251</td>\n",
       "      <td>60532</td>\n",
       "      <td>80</td>\n",
       "      <td>6</td>\n",
       "      <td>35</td>\n",
       "      <td>2674</td>\n",
       "      <td>FSPA</td>\n",
       "      <td>2021/03/19T17:28:24.978</td>\n",
       "      <td>7.254</td>\n",
       "      <td>2021/03/19T17:28:32.232</td>\n",
       "      <td>S0</td>\n",
       "    </tr>\n",
       "    <tr>\n",
       "      <th>2</th>\n",
       "      <td>192.168.0.9</td>\n",
       "      <td>134.209.19.251</td>\n",
       "      <td>60524</td>\n",
       "      <td>80</td>\n",
       "      <td>6</td>\n",
       "      <td>6</td>\n",
       "      <td>749</td>\n",
       "      <td>FSPA</td>\n",
       "      <td>2021/03/19T17:28:23.929</td>\n",
       "      <td>8.304</td>\n",
       "      <td>2021/03/19T17:28:32.233</td>\n",
       "      <td>S0</td>\n",
       "    </tr>\n",
       "    <tr>\n",
       "      <th>4</th>\n",
       "      <td>192.168.0.9</td>\n",
       "      <td>134.209.19.251</td>\n",
       "      <td>60534</td>\n",
       "      <td>80</td>\n",
       "      <td>6</td>\n",
       "      <td>25</td>\n",
       "      <td>3096</td>\n",
       "      <td>FSPA</td>\n",
       "      <td>2021/03/19T17:28:24.981</td>\n",
       "      <td>7.261</td>\n",
       "      <td>2021/03/19T17:28:32.242</td>\n",
       "      <td>S0</td>\n",
       "    </tr>\n",
       "  </tbody>\n",
       "</table>\n",
       "</div>"
      ],
      "text/plain": [
       "           sIP             dIP  sPort  dPort  protocol  packets  bytes flags  \\\n",
       "0  192.168.0.9  134.209.19.251  60532     80         6       35   2674  FSPA   \n",
       "2  192.168.0.9  134.209.19.251  60524     80         6        6    749  FSPA   \n",
       "4  192.168.0.9  134.209.19.251  60534     80         6       25   3096  FSPA   \n",
       "\n",
       "                     sTime  duration                    eTime sensor  \n",
       "0  2021/03/19T17:28:24.978     7.254  2021/03/19T17:28:32.232     S0  \n",
       "2  2021/03/19T17:28:23.929     8.304  2021/03/19T17:28:32.233     S0  \n",
       "4  2021/03/19T17:28:24.981     7.261  2021/03/19T17:28:32.242     S0  "
      ]
     },
     "execution_count": 23,
     "metadata": {},
     "output_type": "execute_result"
    }
   ],
   "source": [
    "normal_flow = pd.read_csv(\"./Data/Normal_Flow.csv\", delimiter=',')\n",
    "#attack_flow=pandas.read_csv(\"./Data/Attack_flow.csv\", delimiter=',')\n",
    "\n",
    "# Collect data where the flow has origionated from 192.168.0.0/24\n",
    "internal = normal_flow.query(\"sIP.str.contains('192.168.0.9')\")\n",
    "\n",
    "#normal_flow.head(3)\n",
    "internal.head(3)\n",
    "#attack_flow.head(3)"
   ]
  },
  {
   "cell_type": "markdown",
   "metadata": {},
   "source": [
    "## Data sanitisation\n",
    "Although we have the netflow data it's not quite in the format that we want it in just yet, we need to do some conversion. Im fairly sure the way I am doing this is horriably inneffiecent but it works!"
   ]
  },
  {
   "cell_type": "code",
   "execution_count": 27,
   "metadata": {
    "scrolled": true
   },
   "outputs": [
    {
     "data": {
      "text/html": [
       "<div>\n",
       "<style scoped>\n",
       "    .dataframe tbody tr th:only-of-type {\n",
       "        vertical-align: middle;\n",
       "    }\n",
       "\n",
       "    .dataframe tbody tr th {\n",
       "        vertical-align: top;\n",
       "    }\n",
       "\n",
       "    .dataframe thead th {\n",
       "        text-align: right;\n",
       "    }\n",
       "</style>\n",
       "<table border=\"1\" class=\"dataframe\">\n",
       "  <thead>\n",
       "    <tr style=\"text-align: right;\">\n",
       "      <th></th>\n",
       "      <th>sIP</th>\n",
       "      <th>dIP</th>\n",
       "      <th>sPort</th>\n",
       "      <th>dPort</th>\n",
       "      <th>protocol</th>\n",
       "      <th>packets</th>\n",
       "      <th>Kilobytes</th>\n",
       "      <th>flags</th>\n",
       "      <th>stime</th>\n",
       "      <th>duration</th>\n",
       "      <th>eTime</th>\n",
       "      <th>TimeStamp</th>\n",
       "    </tr>\n",
       "  </thead>\n",
       "  <tbody>\n",
       "    <tr>\n",
       "      <th>49</th>\n",
       "      <td>192.168.0.9</td>\n",
       "      <td>239.255.255.250</td>\n",
       "      <td>53089</td>\n",
       "      <td>1900</td>\n",
       "      <td>17</td>\n",
       "      <td>4</td>\n",
       "      <td>0.78</td>\n",
       "      <td>NaN</td>\n",
       "      <td>2021/03/19T17:28:16.645</td>\n",
       "      <td>3.003</td>\n",
       "      <td>2021/03/19T17:28:19.648</td>\n",
       "      <td>17:28:19.648</td>\n",
       "    </tr>\n",
       "    <tr>\n",
       "      <th>50</th>\n",
       "      <td>192.168.0.9</td>\n",
       "      <td>194.168.4.100</td>\n",
       "      <td>45625</td>\n",
       "      <td>53</td>\n",
       "      <td>17</td>\n",
       "      <td>1</td>\n",
       "      <td>0.054</td>\n",
       "      <td>NaN</td>\n",
       "      <td>2021/03/19T17:28:23.907</td>\n",
       "      <td>0.021</td>\n",
       "      <td>2021/03/19T17:28:23.928</td>\n",
       "      <td>17:28:23.928</td>\n",
       "    </tr>\n",
       "    <tr>\n",
       "      <th>52</th>\n",
       "      <td>192.168.0.9</td>\n",
       "      <td>194.168.4.100</td>\n",
       "      <td>47466</td>\n",
       "      <td>53</td>\n",
       "      <td>17</td>\n",
       "      <td>1</td>\n",
       "      <td>0.054</td>\n",
       "      <td>NaN</td>\n",
       "      <td>2021/03/19T17:28:24.192</td>\n",
       "      <td>0.018</td>\n",
       "      <td>2021/03/19T17:28:24.210</td>\n",
       "      <td>17:28:24.210</td>\n",
       "    </tr>\n",
       "    <tr>\n",
       "      <th>53</th>\n",
       "      <td>192.168.0.9</td>\n",
       "      <td>194.168.4.100</td>\n",
       "      <td>37789</td>\n",
       "      <td>53</td>\n",
       "      <td>17</td>\n",
       "      <td>1</td>\n",
       "      <td>0.053</td>\n",
       "      <td>NaN</td>\n",
       "      <td>2021/03/19T17:28:25.242</td>\n",
       "      <td>0.016</td>\n",
       "      <td>2021/03/19T17:28:25.258</td>\n",
       "      <td>17:28:25.258</td>\n",
       "    </tr>\n",
       "    <tr>\n",
       "      <th>54</th>\n",
       "      <td>192.168.0.9</td>\n",
       "      <td>194.168.4.100</td>\n",
       "      <td>36783</td>\n",
       "      <td>53</td>\n",
       "      <td>17</td>\n",
       "      <td>1</td>\n",
       "      <td>0.066</td>\n",
       "      <td>NaN</td>\n",
       "      <td>2021/03/19T17:28:25.300</td>\n",
       "      <td>0.072</td>\n",
       "      <td>2021/03/19T17:28:25.372</td>\n",
       "      <td>17:28:25.372</td>\n",
       "    </tr>\n",
       "  </tbody>\n",
       "</table>\n",
       "</div>"
      ],
      "text/plain": [
       "            sIP              dIP  sPort dPort protocol packets Kilobytes  \\\n",
       "49  192.168.0.9  239.255.255.250  53089  1900       17       4      0.78   \n",
       "50  192.168.0.9    194.168.4.100  45625    53       17       1     0.054   \n",
       "52  192.168.0.9    194.168.4.100  47466    53       17       1     0.054   \n",
       "53  192.168.0.9    194.168.4.100  37789    53       17       1     0.053   \n",
       "54  192.168.0.9    194.168.4.100  36783    53       17       1     0.066   \n",
       "\n",
       "   flags                    stime duration                    eTime  \\\n",
       "49   NaN  2021/03/19T17:28:16.645    3.003  2021/03/19T17:28:19.648   \n",
       "50   NaN  2021/03/19T17:28:23.907    0.021  2021/03/19T17:28:23.928   \n",
       "52   NaN  2021/03/19T17:28:24.192    0.018  2021/03/19T17:28:24.210   \n",
       "53   NaN  2021/03/19T17:28:25.242    0.016  2021/03/19T17:28:25.258   \n",
       "54   NaN  2021/03/19T17:28:25.300    0.072  2021/03/19T17:28:25.372   \n",
       "\n",
       "       TimeStamp  \n",
       "49  17:28:19.648  \n",
       "50  17:28:23.928  \n",
       "52  17:28:24.210  \n",
       "53  17:28:25.258  \n",
       "54  17:28:25.372  "
      ]
     },
     "execution_count": 27,
     "metadata": {},
     "output_type": "execute_result"
    }
   ],
   "source": [
    "sanatised_internal = internal.to_numpy()\n",
    "for i in range(0,len(sanatised_internal)):\n",
    "    # change Bytes to KiloBytes\n",
    "    sanatised_internal[i][6] = sanatised_internal[i][6]/1000\n",
    "    # Extract the HH:MM:SS:fff and replace the data in the sensor column\n",
    "    sanatised_internal[i][11] = sanatised_internal[i][10].split(\"T\")[1]\n",
    "# convert Numpy Array back to Panads Data \n",
    "sanatised_internal = pd.DataFrame(sanatised_internal,columns=[\"sIP\",\"dIP\",\"sPort\",\"dPort\",\"protocol\",\"packets\",\"Kilobytes\",\"flags\",\"stime\",\"duration\",\"eTime\",\"TimeStamp\"])\n",
    "sanatised_internal = sanatised_internal.sort_values(\"TimeStamp\")\n",
    "sanatised_internal.head(5)"
   ]
  },
  {
   "cell_type": "markdown",
   "metadata": {},
   "source": [
    "## Fancy Graphs time!\n",
    "Now we have the data in the format that we want we can have alook at some of the visulasations\n",
    "### 1 - Top TCP Port"
   ]
  },
  {
   "cell_type": "code",
   "execution_count": 28,
   "metadata": {},
   "outputs": [
    {
     "data": {
      "text/plain": [
       "Text(0, 0.5, 'Frequency')"
      ]
     },
     "execution_count": 28,
     "metadata": {},
     "output_type": "execute_result"
    },
    {
     "data": {
      "image/png": "[encoded data removed]",
      "text/plain": [
       "<Figure size 432x288 with 1 Axes>"
      ]
     },
     "metadata": {
      "needs_background": "light"
     },
     "output_type": "display_data"
    }
   ],
   "source": [
    "#plt.hist(internal[internal[\"protocol\"]==\"6\"][\"dPort\"])\n",
    "sanatised_internal.loc[sanatised_internal[\"protocol\"] == 6]['dPort'].hist()\n",
    "plt.xlabel('TCP Destination Port')\n",
    "plt.ylabel('Frequency')"
   ]
  },
  {
   "cell_type": "markdown",
   "metadata": {},
   "source": [
    "## 2 - Top used UDP Port Numbers from any device on 192.168.0.0"
   ]
  },
  {
   "cell_type": "code",
   "execution_count": 29,
   "metadata": {},
   "outputs": [
    {
     "data": {
      "text/plain": [
       "Text(0, 0.5, 'Frequency')"
      ]
     },
     "execution_count": 29,
     "metadata": {},
     "output_type": "execute_result"
    },
    {
     "data": {
      "image/png": "[encoded data removed]",
      "text/plain": [
       "<Figure size 432x288 with 1 Axes>"
      ]
     },
     "metadata": {
      "needs_background": "light"
     },
     "output_type": "display_data"
    }
   ],
   "source": [
    "#plt.hist(internal[internal[\"protocol\"]==\"6\"][\"dPort\"])\n",
    "sanatised_internal.loc[sanatised_internal[\"protocol\"] == 17]['dPort'].hist()\n",
    "plt.xlabel('UDP Destination Port')\n",
    "plt.ylabel('Frequency')"
   ]
  },
  {
   "cell_type": "markdown",
   "metadata": {},
   "source": [
    "## 3- Number of packets and bytes at a time stamp\n",
    "The complex stuff"
   ]
  },
  {
   "cell_type": "code",
   "execution_count": 68,
   "metadata": {},
   "outputs": [
    {
     "data": {
      "text/plain": [
       "Text(0, 0.5, 'Kilobytes')"
      ]
     },
     "execution_count": 68,
     "metadata": {},
     "output_type": "execute_result"
    },
    {
     "data": {
      "image/png": "[encoded data removed]",
      "text/plain": [
       "<Figure size 1440x720 with 1 Axes>"
      ]
     },
     "metadata": {
      "needs_background": "light"
     },
     "output_type": "display_data"
    }
   ],
   "source": [
    "plt.rcParams[\"figure.figsize\"] = (20,10)\n",
    "plt.plot(sanatised_internal[\"TimeStamp\"],sanatised_internal[\"Kilobytes\"],label='KiB')\n",
    "#plt.plot(sanatised_internal[\"TimeStamp\"],sanatised_internal[\"packets\"],label='Packets')\n",
    "plt.legend(loc='best',title=\"Legend\")\n",
    "plt.xlabel('Timestamp')\n",
    "plt.ylabel('Kilobytes')"
   ]
  },
  {
   "cell_type": "code",
   "execution_count": null,
   "metadata": {},
   "outputs": [],
   "source": [
    "\n"
   ]
  },
  {
   "cell_type": "code",
   "execution_count": null,
   "metadata": {},
   "outputs": [],
   "source": []
  }
 ],
 "metadata": {
  "kernelspec": {
   "display_name": "Python 3",
   "language": "python",
   "name": "python3"
  },
  "language_info": {
   "codemirror_mode": {
    "name": "ipython",
    "version": 3
   },
   "file_extension": ".py",
   "mimetype": "text/x-python",
   "name": "python",
   "nbconvert_exporter": "python",
   "pygments_lexer": "ipython3",
   "version": "3.7.3"
  }
 },
 "nbformat": 4,
 "nbformat_minor": 2
}
